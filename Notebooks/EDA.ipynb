{
 "cells": [
  {
   "cell_type": "markdown",
   "id": "60ca30e2",
   "metadata": {},
   "source": [
    "Importar bibliotecas para iniciar o pipeline"
   ]
  },
  {
   "cell_type": "code",
   "execution_count": 1,
   "id": "e252505e",
   "metadata": {},
   "outputs": [],
   "source": [
    "import pandas as pd \n",
    "import sqlite3"
   ]
  },
  {
   "cell_type": "markdown",
   "id": "28938db8",
   "metadata": {},
   "source": [
    "#1. Ler o CSV com pandas"
   ]
  },
  {
   "cell_type": "code",
   "execution_count": 5,
   "id": "4c4de458",
   "metadata": {},
   "outputs": [],
   "source": [
    "csv1 = \"C:/Users/Lucas/.cache/kagglehub/datasets/andrewmvd/brazilian-stock-market/versions/840/bovespa_indexes.csv\"\n",
    "csv2 = \"C:/Users/Lucas/.cache/kagglehub/datasets/andrewmvd/brazilian-stock-market/versions/840/economic_indicators.csv\"\n",
    "csv3 = \"C:/Users/Lucas/.cache/kagglehub/datasets/andrewmvd/brazilian-stock-market/versions/840/bovespa_stocks.csv\""
   ]
  },
  {
   "cell_type": "markdown",
   "id": "6ded6d26",
   "metadata": {},
   "source": [
    "#2. Rodar os dados em uma estrutura chamada DataFrame, que é tipo uma tabela que o pandas entende para poder manupular os dados facilmanete"
   ]
  },
  {
   "cell_type": "code",
   "execution_count": 6,
   "id": "8ac55577",
   "metadata": {},
   "outputs": [],
   "source": [
    "df1 = pd.read_csv(csv1)\n",
    "df2 = pd.read_csv(csv2)\n",
    "df3 = pd.read_csv(csv3)"
   ]
  },
  {
   "cell_type": "markdown",
   "id": "dddd46d5",
   "metadata": {},
   "source": [
    "Entendendo os dados: "
   ]
  },
  {
   "cell_type": "code",
   "execution_count": 15,
   "id": "1f62aeac",
   "metadata": {},
   "outputs": [
    {
     "name": "stdout",
     "output_type": "stream",
     "text": [
      "Bovespa Indexes:\n",
      "         Date Symbol  Adj Close    Close     High      Low     Open     Volume\n",
      "0  2010-01-04  ^BVSP    70045.0  70045.0  70081.0  68587.0  68587.0  1655400.0\n",
      "1  2010-01-05  ^BVSP    70240.0  70240.0  70595.0  69928.0  70046.0  1984200.0\n",
      "2  2010-01-06  ^BVSP    70729.0  70729.0  70937.0  70016.0  70237.0  2243600.0\n",
      "3  2010-01-07  ^BVSP    70451.0  70451.0  70723.0  70045.0  70723.0  1555000.0\n",
      "4  2010-01-08  ^BVSP    70263.0  70263.0  70766.0  70158.0  70455.0  1634400.0\n",
      "\n",
      "Economic Indicators:\n",
      "         Date  Taxa Selic  IPCA  IGP-M  INPC  Desemprego PNADC\n",
      "0  2010-01-01        8.75  0.75   0.63  0.88               NaN\n",
      "1  2010-01-02        8.75   NaN    NaN   NaN               NaN\n",
      "2  2010-01-03        8.75   NaN    NaN   NaN               NaN\n",
      "3  2010-01-04        8.75   NaN    NaN   NaN               NaN\n",
      "4  2010-01-05        8.75   NaN    NaN   NaN               NaN\n",
      "\n",
      "Bovespa Stocks:\n",
      "         Date  Symbol    Adj Close        Close         High          Low  \\\n",
      "0  2022-10-03  SMAB11     8.360000     8.360000     8.370000     7.970000   \n",
      "1  2010-01-04   MMXM3  1599.174927  1599.174927  1599.174927  1555.137817   \n",
      "2  2010-01-05   MMXM3  1609.240479  1609.240479  1616.789795  1567.719849   \n",
      "3  2010-01-06   MMXM3  1680.958008  1680.958008  1685.990845  1599.174927   \n",
      "4  2010-01-07   MMXM3  1698.572876  1698.572876  1704.863892  1641.953735   \n",
      "\n",
      "          Open   Volume  \n",
      "0     8.000000    579.0  \n",
      "1  1556.395996  20984.0  \n",
      "2  1600.433105  22586.0  \n",
      "3  1616.789795  37998.0  \n",
      "4  1660.826782  33651.0  \n"
     ]
    }
   ],
   "source": [
    "print(\"Bovespa Indexes:\")\n",
    "print(df1.head())\n",
    "print(\"\\nEconomic Indicators:\")\n",
    "print(df2.head())\n",
    "print(\"\\nBovespa Stocks:\")\n",
    "print(df3.head())"
   ]
  }
 ],
 "metadata": {
  "kernelspec": {
   "display_name": "Python 3",
   "language": "python",
   "name": "python3"
  },
  "language_info": {
   "codemirror_mode": {
    "name": "ipython",
    "version": 3
   },
   "file_extension": ".py",
   "mimetype": "text/x-python",
   "name": "python",
   "nbconvert_exporter": "python",
   "pygments_lexer": "ipython3",
   "version": "3.13.0"
  }
 },
 "nbformat": 4,
 "nbformat_minor": 5
}
